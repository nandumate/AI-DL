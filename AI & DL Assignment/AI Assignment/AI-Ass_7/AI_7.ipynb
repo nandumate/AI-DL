{
  "nbformat": 4,
  "nbformat_minor": 0,
  "metadata": {
    "colab": {
      "provenance": []
    },
    "kernelspec": {
      "name": "python3",
      "display_name": "Python 3"
    },
    "language_info": {
      "name": "python"
    }
  },
  "cells": [
    {
      "cell_type": "code",
      "source": [
        "facts = [\"A\", \"B\"]\n",
        "\n",
        "#(condition, conclusion)\n",
        "rules = [\n",
        "    ([\"A\", \"B\"], \"C\"),  # If A and B are true, then C is true\n",
        "    ([\"C\"], \"D\"),       # If C is true, then D is true\n",
        "    ([\"D\"], \"E\")        # If D is true, then E is true\n",
        "]\n",
        "\n",
        "def forward_chaining(facts, rules):\n",
        "    inferred = set(facts)\n",
        "    new_fact_added = True\n",
        "\n",
        "    while new_fact_added:\n",
        "        new_fact_added = False\n",
        "        for rule in rules:\n",
        "            conditions, conclusion = rule\n",
        "\n",
        "            # Check if all conditions are satisfied\n",
        "            all_conditions_met = True\n",
        "            for condition in conditions:\n",
        "                if condition not in inferred:\n",
        "                    all_conditions_met = False\n",
        "                    break\n",
        "\n",
        "\n",
        "            if all_conditions_met and conclusion not in inferred:\n",
        "                inferred.add(conclusion)\n",
        "                print(f\"Inferred new fact: {conclusion}\")\n",
        "                new_fact_added = True\n",
        "\n",
        "    return inferred\n",
        "\n",
        "\n",
        "print(\"Initial facts:\", facts)\n",
        "inferred_facts = forward_chaining(facts, rules)\n",
        "print(\"Final inferred facts:\", inferred_facts)"
      ],
      "metadata": {
        "colab": {
          "base_uri": "https://localhost:8080/"
        },
        "id": "ZfSfwDXHEXY3",
        "outputId": "a49a4d2a-1815-498c-ee59-c16f12c9d380"
      },
      "execution_count": 1,
      "outputs": [
        {
          "output_type": "stream",
          "name": "stdout",
          "text": [
            "Initial facts: ['A', 'B']\n",
            "Inferred new fact: C\n",
            "Inferred new fact: D\n",
            "Inferred new fact: E\n",
            "Final inferred facts: {'D', 'E', 'C', 'B', 'A'}\n"
          ]
        }
      ]
    }
  ]
}